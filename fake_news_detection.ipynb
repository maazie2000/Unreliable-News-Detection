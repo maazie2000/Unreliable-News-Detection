{
  "nbformat": 4,
  "nbformat_minor": 0,
  "metadata": {
    "colab": {
      "provenance": []
    },
    "kernelspec": {
      "name": "python3",
      "display_name": "Python 3"
    },
    "language_info": {
      "name": "python"
    },
    "accelerator": "GPU",
    "gpuClass": "standard"
  },
  "cells": [
    {
      "cell_type": "markdown",
      "source": [
        "# Fake News Detection 🕵️🗞️"
      ],
      "metadata": {
        "id": "WEmthaxkuPuX"
      }
    },
    {
      "cell_type": "markdown",
      "source": [
        "## Get preprocessed data"
      ],
      "metadata": {
        "id": "JNK9RvW5uZpz"
      }
    },
    {
      "cell_type": "code",
      "source": [
        "!wget -O train.csv 'https://drive.google.com/u/0/uc?id=1pqhbkJl1zV8ZnB4MhKuRtGPtjmYh4WxA&export=download'"
      ],
      "metadata": {
        "colab": {
          "base_uri": "https://localhost:8080/"
        },
        "id": "wqQs9Pyqubnc",
        "outputId": "dff8b429-989e-4093-bd2e-af5d90d1dcc6"
      },
      "execution_count": 1,
      "outputs": [
        {
          "output_type": "stream",
          "name": "stdout",
          "text": [
            "--2023-03-26 03:24:29--  https://drive.google.com/u/0/uc?id=1pqhbkJl1zV8ZnB4MhKuRtGPtjmYh4WxA&export=download\n",
            "Resolving drive.google.com (drive.google.com)... 108.177.119.102, 108.177.119.100, 108.177.119.101, ...\n",
            "Connecting to drive.google.com (drive.google.com)|108.177.119.102|:443... connected.\n",
            "HTTP request sent, awaiting response... 302 Found\n",
            "Location: https://drive.google.com/uc?id=1pqhbkJl1zV8ZnB4MhKuRtGPtjmYh4WxA&export=download [following]\n",
            "--2023-03-26 03:24:30--  https://drive.google.com/uc?id=1pqhbkJl1zV8ZnB4MhKuRtGPtjmYh4WxA&export=download\n",
            "Reusing existing connection to drive.google.com:443.\n",
            "HTTP request sent, awaiting response... 303 See Other\n",
            "Location: https://doc-04-4c-docs.googleusercontent.com/docs/securesc/ha0ro937gcuc7l7deffksulhg5h7mbp1/jkcc2g8v7m7l2gbkbu52iaeu4mlme7ho/1679801025000/04497796494746103904/*/1pqhbkJl1zV8ZnB4MhKuRtGPtjmYh4WxA?e=download&uuid=96bd9cce-c957-482f-9d67-de9d0a0a9245 [following]\n",
            "Warning: wildcards not supported in HTTP.\n",
            "--2023-03-26 03:24:33--  https://doc-04-4c-docs.googleusercontent.com/docs/securesc/ha0ro937gcuc7l7deffksulhg5h7mbp1/jkcc2g8v7m7l2gbkbu52iaeu4mlme7ho/1679801025000/04497796494746103904/*/1pqhbkJl1zV8ZnB4MhKuRtGPtjmYh4WxA?e=download&uuid=96bd9cce-c957-482f-9d67-de9d0a0a9245\n",
            "Resolving doc-04-4c-docs.googleusercontent.com (doc-04-4c-docs.googleusercontent.com)... 142.250.153.132, 2a00:1450:4013:c16::84\n",
            "Connecting to doc-04-4c-docs.googleusercontent.com (doc-04-4c-docs.googleusercontent.com)|142.250.153.132|:443... connected.\n",
            "HTTP request sent, awaiting response... 200 OK\n",
            "Length: 76944428 (73M) [text/csv]\n",
            "Saving to: ‘train.csv’\n",
            "\n",
            "train.csv           100%[===================>]  73.38M   100MB/s    in 0.7s    \n",
            "\n",
            "2023-03-26 03:24:35 (100 MB/s) - ‘train.csv’ saved [76944428/76944428]\n",
            "\n"
          ]
        }
      ]
    },
    {
      "cell_type": "code",
      "source": [
        "!wget -O test.csv 'https://drive.google.com/u/0/uc?id=1KLZE-XyNXfVQTYGJHrFB-5Vqsukt8Cms&export=download'"
      ],
      "metadata": {
        "colab": {
          "base_uri": "https://localhost:8080/"
        },
        "id": "0-Rw9gS9xmBb",
        "outputId": "1c92ea76-da49-4f74-bc48-a1b442850a68"
      },
      "execution_count": 2,
      "outputs": [
        {
          "output_type": "stream",
          "name": "stdout",
          "text": [
            "--2023-03-26 03:24:35--  https://drive.google.com/u/0/uc?id=1KLZE-XyNXfVQTYGJHrFB-5Vqsukt8Cms&export=download\n",
            "Resolving drive.google.com (drive.google.com)... 108.177.119.102, 108.177.119.100, 108.177.119.101, ...\n",
            "Connecting to drive.google.com (drive.google.com)|108.177.119.102|:443... connected.\n",
            "HTTP request sent, awaiting response... 302 Found\n",
            "Location: https://drive.google.com/uc?id=1KLZE-XyNXfVQTYGJHrFB-5Vqsukt8Cms&export=download [following]\n",
            "--2023-03-26 03:24:35--  https://drive.google.com/uc?id=1KLZE-XyNXfVQTYGJHrFB-5Vqsukt8Cms&export=download\n",
            "Reusing existing connection to drive.google.com:443.\n",
            "HTTP request sent, awaiting response... 303 See Other\n",
            "Location: https://doc-0k-4c-docs.googleusercontent.com/docs/securesc/ha0ro937gcuc7l7deffksulhg5h7mbp1/gggrfsd3qb75q05p6jlj96pf0msb362q/1679801025000/04497796494746103904/*/1KLZE-XyNXfVQTYGJHrFB-5Vqsukt8Cms?e=download&uuid=557d5c8e-2056-416e-b7f7-2e35b96a5b95 [following]\n",
            "Warning: wildcards not supported in HTTP.\n",
            "--2023-03-26 03:24:47--  https://doc-0k-4c-docs.googleusercontent.com/docs/securesc/ha0ro937gcuc7l7deffksulhg5h7mbp1/gggrfsd3qb75q05p6jlj96pf0msb362q/1679801025000/04497796494746103904/*/1KLZE-XyNXfVQTYGJHrFB-5Vqsukt8Cms?e=download&uuid=557d5c8e-2056-416e-b7f7-2e35b96a5b95\n",
            "Resolving doc-0k-4c-docs.googleusercontent.com (doc-0k-4c-docs.googleusercontent.com)... 142.250.153.132, 2a00:1450:4013:c16::84\n",
            "Connecting to doc-0k-4c-docs.googleusercontent.com (doc-0k-4c-docs.googleusercontent.com)|142.250.153.132|:443... connected.\n",
            "HTTP request sent, awaiting response... 200 OK\n",
            "Length: 19226893 (18M) [text/csv]\n",
            "Saving to: ‘test.csv’\n",
            "\n",
            "test.csv            100%[===================>]  18.34M  18.3MB/s    in 1.0s    \n",
            "\n",
            "2023-03-26 03:24:48 (18.3 MB/s) - ‘test.csv’ saved [19226893/19226893]\n",
            "\n"
          ]
        }
      ]
    },
    {
      "cell_type": "code",
      "source": [
        "import pandas as pd\n",
        "train_df = pd.read_csv('train.csv').drop('Unnamed: 0', axis=1)\n",
        "test_df = pd.read_csv('test.csv').drop('Unnamed: 0', axis=1)\n",
        "train_df.head()"
      ],
      "metadata": {
        "colab": {
          "base_uri": "https://localhost:8080/",
          "height": 206
        },
        "id": "zXPcKkSxxB4M",
        "outputId": "efb10f6c-d199-4ac9-b55f-296fc6357c0e"
      },
      "execution_count": 3,
      "outputs": [
        {
          "output_type": "execute_result",
          "data": {
            "text/plain": [
              "                                                Text  Label\n",
              "0  Like a little crew of   bandits, the first few...      0\n",
              "1  On Thursday’s Breitbart News Daily, SiriusXM h...      0\n",
              "2  Home › POLITICS › IF HILLARY CLINTON IS CHARGE...      1\n",
              "3  The New York Times’s Moscow bureau was the tar...      0\n",
              "4  An event organised by Gays Against Sharia to m...      0"
            ],
            "text/html": [
              "\n",
              "  <div id=\"df-9aca55ae-fa1e-4363-a839-73673abaade6\">\n",
              "    <div class=\"colab-df-container\">\n",
              "      <div>\n",
              "<style scoped>\n",
              "    .dataframe tbody tr th:only-of-type {\n",
              "        vertical-align: middle;\n",
              "    }\n",
              "\n",
              "    .dataframe tbody tr th {\n",
              "        vertical-align: top;\n",
              "    }\n",
              "\n",
              "    .dataframe thead th {\n",
              "        text-align: right;\n",
              "    }\n",
              "</style>\n",
              "<table border=\"1\" class=\"dataframe\">\n",
              "  <thead>\n",
              "    <tr style=\"text-align: right;\">\n",
              "      <th></th>\n",
              "      <th>Text</th>\n",
              "      <th>Label</th>\n",
              "    </tr>\n",
              "  </thead>\n",
              "  <tbody>\n",
              "    <tr>\n",
              "      <th>0</th>\n",
              "      <td>Like a little crew of   bandits, the first few...</td>\n",
              "      <td>0</td>\n",
              "    </tr>\n",
              "    <tr>\n",
              "      <th>1</th>\n",
              "      <td>On Thursday’s Breitbart News Daily, SiriusXM h...</td>\n",
              "      <td>0</td>\n",
              "    </tr>\n",
              "    <tr>\n",
              "      <th>2</th>\n",
              "      <td>Home › POLITICS › IF HILLARY CLINTON IS CHARGE...</td>\n",
              "      <td>1</td>\n",
              "    </tr>\n",
              "    <tr>\n",
              "      <th>3</th>\n",
              "      <td>The New York Times’s Moscow bureau was the tar...</td>\n",
              "      <td>0</td>\n",
              "    </tr>\n",
              "    <tr>\n",
              "      <th>4</th>\n",
              "      <td>An event organised by Gays Against Sharia to m...</td>\n",
              "      <td>0</td>\n",
              "    </tr>\n",
              "  </tbody>\n",
              "</table>\n",
              "</div>\n",
              "      <button class=\"colab-df-convert\" onclick=\"convertToInteractive('df-9aca55ae-fa1e-4363-a839-73673abaade6')\"\n",
              "              title=\"Convert this dataframe to an interactive table.\"\n",
              "              style=\"display:none;\">\n",
              "        \n",
              "  <svg xmlns=\"http://www.w3.org/2000/svg\" height=\"24px\"viewBox=\"0 0 24 24\"\n",
              "       width=\"24px\">\n",
              "    <path d=\"M0 0h24v24H0V0z\" fill=\"none\"/>\n",
              "    <path d=\"M18.56 5.44l.94 2.06.94-2.06 2.06-.94-2.06-.94-.94-2.06-.94 2.06-2.06.94zm-11 1L8.5 8.5l.94-2.06 2.06-.94-2.06-.94L8.5 2.5l-.94 2.06-2.06.94zm10 10l.94 2.06.94-2.06 2.06-.94-2.06-.94-.94-2.06-.94 2.06-2.06.94z\"/><path d=\"M17.41 7.96l-1.37-1.37c-.4-.4-.92-.59-1.43-.59-.52 0-1.04.2-1.43.59L10.3 9.45l-7.72 7.72c-.78.78-.78 2.05 0 2.83L4 21.41c.39.39.9.59 1.41.59.51 0 1.02-.2 1.41-.59l7.78-7.78 2.81-2.81c.8-.78.8-2.07 0-2.86zM5.41 20L4 18.59l7.72-7.72 1.47 1.35L5.41 20z\"/>\n",
              "  </svg>\n",
              "      </button>\n",
              "      \n",
              "  <style>\n",
              "    .colab-df-container {\n",
              "      display:flex;\n",
              "      flex-wrap:wrap;\n",
              "      gap: 12px;\n",
              "    }\n",
              "\n",
              "    .colab-df-convert {\n",
              "      background-color: #E8F0FE;\n",
              "      border: none;\n",
              "      border-radius: 50%;\n",
              "      cursor: pointer;\n",
              "      display: none;\n",
              "      fill: #1967D2;\n",
              "      height: 32px;\n",
              "      padding: 0 0 0 0;\n",
              "      width: 32px;\n",
              "    }\n",
              "\n",
              "    .colab-df-convert:hover {\n",
              "      background-color: #E2EBFA;\n",
              "      box-shadow: 0px 1px 2px rgba(60, 64, 67, 0.3), 0px 1px 3px 1px rgba(60, 64, 67, 0.15);\n",
              "      fill: #174EA6;\n",
              "    }\n",
              "\n",
              "    [theme=dark] .colab-df-convert {\n",
              "      background-color: #3B4455;\n",
              "      fill: #D2E3FC;\n",
              "    }\n",
              "\n",
              "    [theme=dark] .colab-df-convert:hover {\n",
              "      background-color: #434B5C;\n",
              "      box-shadow: 0px 1px 3px 1px rgba(0, 0, 0, 0.15);\n",
              "      filter: drop-shadow(0px 1px 2px rgba(0, 0, 0, 0.3));\n",
              "      fill: #FFFFFF;\n",
              "    }\n",
              "  </style>\n",
              "\n",
              "      <script>\n",
              "        const buttonEl =\n",
              "          document.querySelector('#df-9aca55ae-fa1e-4363-a839-73673abaade6 button.colab-df-convert');\n",
              "        buttonEl.style.display =\n",
              "          google.colab.kernel.accessAllowed ? 'block' : 'none';\n",
              "\n",
              "        async function convertToInteractive(key) {\n",
              "          const element = document.querySelector('#df-9aca55ae-fa1e-4363-a839-73673abaade6');\n",
              "          const dataTable =\n",
              "            await google.colab.kernel.invokeFunction('convertToInteractive',\n",
              "                                                     [key], {});\n",
              "          if (!dataTable) return;\n",
              "\n",
              "          const docLinkHtml = 'Like what you see? Visit the ' +\n",
              "            '<a target=\"_blank\" href=https://colab.research.google.com/notebooks/data_table.ipynb>data table notebook</a>'\n",
              "            + ' to learn more about interactive tables.';\n",
              "          element.innerHTML = '';\n",
              "          dataTable['output_type'] = 'display_data';\n",
              "          await google.colab.output.renderOutput(dataTable, element);\n",
              "          const docLink = document.createElement('div');\n",
              "          docLink.innerHTML = docLinkHtml;\n",
              "          element.appendChild(docLink);\n",
              "        }\n",
              "      </script>\n",
              "    </div>\n",
              "  </div>\n",
              "  "
            ]
          },
          "metadata": {},
          "execution_count": 3
        }
      ]
    },
    {
      "cell_type": "code",
      "source": [
        "test_df.head()"
      ],
      "metadata": {
        "colab": {
          "base_uri": "https://localhost:8080/",
          "height": 206
        },
        "id": "OrA_NSVKx5jY",
        "outputId": "3017862a-2f68-41a4-f6ad-04bcf7fc289f"
      },
      "execution_count": 4,
      "outputs": [
        {
          "output_type": "execute_result",
          "data": {
            "text/plain": [
              "                                                Text  Label\n",
              "0  By Bev Harris A real-time demo of the most dev...      1\n",
              "1  \\nBy Peter Koenig , November   \\nThe elections...      1\n",
              "2  Just days after a national campaign in which h...      0\n",
              "3  House Intelligence Committee chair Rep. Devin ...      0\n",
              "4  Hillary’s Secret Is Out With What Camera Caugh...      1"
            ],
            "text/html": [
              "\n",
              "  <div id=\"df-853019da-c86c-42c4-92b7-4f70860e1811\">\n",
              "    <div class=\"colab-df-container\">\n",
              "      <div>\n",
              "<style scoped>\n",
              "    .dataframe tbody tr th:only-of-type {\n",
              "        vertical-align: middle;\n",
              "    }\n",
              "\n",
              "    .dataframe tbody tr th {\n",
              "        vertical-align: top;\n",
              "    }\n",
              "\n",
              "    .dataframe thead th {\n",
              "        text-align: right;\n",
              "    }\n",
              "</style>\n",
              "<table border=\"1\" class=\"dataframe\">\n",
              "  <thead>\n",
              "    <tr style=\"text-align: right;\">\n",
              "      <th></th>\n",
              "      <th>Text</th>\n",
              "      <th>Label</th>\n",
              "    </tr>\n",
              "  </thead>\n",
              "  <tbody>\n",
              "    <tr>\n",
              "      <th>0</th>\n",
              "      <td>By Bev Harris A real-time demo of the most dev...</td>\n",
              "      <td>1</td>\n",
              "    </tr>\n",
              "    <tr>\n",
              "      <th>1</th>\n",
              "      <td>\\nBy Peter Koenig , November   \\nThe elections...</td>\n",
              "      <td>1</td>\n",
              "    </tr>\n",
              "    <tr>\n",
              "      <th>2</th>\n",
              "      <td>Just days after a national campaign in which h...</td>\n",
              "      <td>0</td>\n",
              "    </tr>\n",
              "    <tr>\n",
              "      <th>3</th>\n",
              "      <td>House Intelligence Committee chair Rep. Devin ...</td>\n",
              "      <td>0</td>\n",
              "    </tr>\n",
              "    <tr>\n",
              "      <th>4</th>\n",
              "      <td>Hillary’s Secret Is Out With What Camera Caugh...</td>\n",
              "      <td>1</td>\n",
              "    </tr>\n",
              "  </tbody>\n",
              "</table>\n",
              "</div>\n",
              "      <button class=\"colab-df-convert\" onclick=\"convertToInteractive('df-853019da-c86c-42c4-92b7-4f70860e1811')\"\n",
              "              title=\"Convert this dataframe to an interactive table.\"\n",
              "              style=\"display:none;\">\n",
              "        \n",
              "  <svg xmlns=\"http://www.w3.org/2000/svg\" height=\"24px\"viewBox=\"0 0 24 24\"\n",
              "       width=\"24px\">\n",
              "    <path d=\"M0 0h24v24H0V0z\" fill=\"none\"/>\n",
              "    <path d=\"M18.56 5.44l.94 2.06.94-2.06 2.06-.94-2.06-.94-.94-2.06-.94 2.06-2.06.94zm-11 1L8.5 8.5l.94-2.06 2.06-.94-2.06-.94L8.5 2.5l-.94 2.06-2.06.94zm10 10l.94 2.06.94-2.06 2.06-.94-2.06-.94-.94-2.06-.94 2.06-2.06.94z\"/><path d=\"M17.41 7.96l-1.37-1.37c-.4-.4-.92-.59-1.43-.59-.52 0-1.04.2-1.43.59L10.3 9.45l-7.72 7.72c-.78.78-.78 2.05 0 2.83L4 21.41c.39.39.9.59 1.41.59.51 0 1.02-.2 1.41-.59l7.78-7.78 2.81-2.81c.8-.78.8-2.07 0-2.86zM5.41 20L4 18.59l7.72-7.72 1.47 1.35L5.41 20z\"/>\n",
              "  </svg>\n",
              "      </button>\n",
              "      \n",
              "  <style>\n",
              "    .colab-df-container {\n",
              "      display:flex;\n",
              "      flex-wrap:wrap;\n",
              "      gap: 12px;\n",
              "    }\n",
              "\n",
              "    .colab-df-convert {\n",
              "      background-color: #E8F0FE;\n",
              "      border: none;\n",
              "      border-radius: 50%;\n",
              "      cursor: pointer;\n",
              "      display: none;\n",
              "      fill: #1967D2;\n",
              "      height: 32px;\n",
              "      padding: 0 0 0 0;\n",
              "      width: 32px;\n",
              "    }\n",
              "\n",
              "    .colab-df-convert:hover {\n",
              "      background-color: #E2EBFA;\n",
              "      box-shadow: 0px 1px 2px rgba(60, 64, 67, 0.3), 0px 1px 3px 1px rgba(60, 64, 67, 0.15);\n",
              "      fill: #174EA6;\n",
              "    }\n",
              "\n",
              "    [theme=dark] .colab-df-convert {\n",
              "      background-color: #3B4455;\n",
              "      fill: #D2E3FC;\n",
              "    }\n",
              "\n",
              "    [theme=dark] .colab-df-convert:hover {\n",
              "      background-color: #434B5C;\n",
              "      box-shadow: 0px 1px 3px 1px rgba(0, 0, 0, 0.15);\n",
              "      filter: drop-shadow(0px 1px 2px rgba(0, 0, 0, 0.3));\n",
              "      fill: #FFFFFF;\n",
              "    }\n",
              "  </style>\n",
              "\n",
              "      <script>\n",
              "        const buttonEl =\n",
              "          document.querySelector('#df-853019da-c86c-42c4-92b7-4f70860e1811 button.colab-df-convert');\n",
              "        buttonEl.style.display =\n",
              "          google.colab.kernel.accessAllowed ? 'block' : 'none';\n",
              "\n",
              "        async function convertToInteractive(key) {\n",
              "          const element = document.querySelector('#df-853019da-c86c-42c4-92b7-4f70860e1811');\n",
              "          const dataTable =\n",
              "            await google.colab.kernel.invokeFunction('convertToInteractive',\n",
              "                                                     [key], {});\n",
              "          if (!dataTable) return;\n",
              "\n",
              "          const docLinkHtml = 'Like what you see? Visit the ' +\n",
              "            '<a target=\"_blank\" href=https://colab.research.google.com/notebooks/data_table.ipynb>data table notebook</a>'\n",
              "            + ' to learn more about interactive tables.';\n",
              "          element.innerHTML = '';\n",
              "          dataTable['output_type'] = 'display_data';\n",
              "          await google.colab.output.renderOutput(dataTable, element);\n",
              "          const docLink = document.createElement('div');\n",
              "          docLink.innerHTML = docLinkHtml;\n",
              "          element.appendChild(docLink);\n",
              "        }\n",
              "      </script>\n",
              "    </div>\n",
              "  </div>\n",
              "  "
            ]
          },
          "metadata": {},
          "execution_count": 4
        }
      ]
    },
    {
      "cell_type": "code",
      "source": [
        "train_df.shape"
      ],
      "metadata": {
        "colab": {
          "base_uri": "https://localhost:8080/"
        },
        "id": "uiocF4ujx9gC",
        "outputId": "a8a841ff-513d-40bc-9780-3f41c7c887b3"
      },
      "execution_count": 5,
      "outputs": [
        {
          "output_type": "execute_result",
          "data": {
            "text/plain": [
              "(16640, 2)"
            ]
          },
          "metadata": {},
          "execution_count": 5
        }
      ]
    },
    {
      "cell_type": "code",
      "source": [
        "test_df.shape"
      ],
      "metadata": {
        "colab": {
          "base_uri": "https://localhost:8080/"
        },
        "id": "AT5JUmeMx_dK",
        "outputId": "52929159-a713-403a-f366-f8bac4d642e1"
      },
      "execution_count": 6,
      "outputs": [
        {
          "output_type": "execute_result",
          "data": {
            "text/plain": [
              "(4160, 2)"
            ]
          },
          "metadata": {},
          "execution_count": 6
        }
      ]
    },
    {
      "cell_type": "code",
      "source": [
        "#Setup train_sentences\n",
        "train_sentences_numpy = train_df['Text'].to_numpy()\n",
        "train_labels = train_df['Label'].to_numpy()\n",
        "\n",
        "#Setup test sentences\n",
        "test_sentences_numpy = test_df['Text'].to_numpy()\n",
        "test_labels = test_df['Label'].to_numpy()"
      ],
      "metadata": {
        "id": "MRp1ZGAFyGH3"
      },
      "execution_count": 7,
      "outputs": []
    },
    {
      "cell_type": "code",
      "source": [
        "train_sentences_numpy[0]"
      ],
      "metadata": {
        "colab": {
          "base_uri": "https://localhost:8080/",
          "height": 165
        },
        "id": "I8LDyxb-y4Ra",
        "outputId": "e16a47df-2e9d-4266-fa7c-fe8620b45885"
      },
      "execution_count": 8,
      "outputs": [
        {
          "output_type": "execute_result",
          "data": {
            "text/plain": [
              "'Like a little crew of   bandits, the first few raccoon faces poked out of the underbrush on a recent evening in Central Park, their masked, button eyes glowing with each flash of a smartphone camera. Undaunted, several of the animals scuttled onto the walkway toward the picture takers. They were followed by more raccoons  —   and then still more. All told,  raccoons clustered on a path near the southeastern edge of the park, where it meets th Street in Manhattan. They strolled around while a gaggle of onlookers tried to pose for selfies with them. Some people fed the animals soft pretzels from a pushcart by hand, as the raccoons stood on their hind legs to wrest morsels from their admirers’ fingertips. “Is this normal?” Karen Newis, , a visitor from Greensboro, N. C. asked her sister Stefanie Price, who lives in Manhattan, as they passed the raccoons. One of the animals gingerly tiptoed toward a baby in a stroller, sniffing. “No, it’s not normal,” Ms. Price, , said. “They’re so cute, though. ” In fact, the throng of raccoons at the edge of the Pond in Central Park has become something of a tourist attraction, with unofficial visiting hours each evening.   with their winter fur (and, perhaps, all those pretzels) in pairs or in dozens, the nocturnal animals gambol on the pathway as soon as it gets dark. They look for   with snacks. The practice of feeding them, however   is frowned upon by New York City’s parks department and wildlife experts. While not illegal (though feeding bears, moose and deer is in New York State) it is risky for people and creatures alike: Raccoons can carry rabies, and emboldened raccoons that do not stay in the underbrush can get themselves into trouble. “Do not feed raccoons or any wildlife you might encounter in parks!” Sarah Aucoin, chief of education and wildlife for the parks department, wrote in an email. “Animals are best observed from a distance  —   it keeps both them and you safe. ” In , there was a large outbreak of rabies among raccoons in Central Park. And on Staten Island in , four cases were reported, according to the city’s health department. This year, three rabid raccoons have been reported  —   one each in the Bronx, Queens and Staten Island  —   and  has received ,    inquiries, such as how to remove them from backyards. Raccoons are not just attracting attention in Manhattan trappers in Brooklyn may have exacerbated a problem by catching them in backyards and releasing them in parks. For animals like raccoons, and even coyotes, living in urban areas is normal, but feeding them should not be, according to the state Department of Environmental Conservation. It publishes a   booklet called “Feeding Wildlife   …     Just Say No!” It is also not necessary. “Raccoons are resilient and have an uncanny ability to find food in the wild,” Benning DeLaMater, a spokesman for the department, said in an email. “They are true omnivores, eating plants, animals and insects. ” Nonetheless, on a nightly basis the raccoons in Central Park stuff themselves with anything   have on hand. On a recent evening the animals snacked on organic gummy bears, tossed at them    by a toddler from her stroller potato chips and a piece of a hot dog. Occasionally, they get a bonanza. A local baker frequently comes to hurl   stale bagels in their direction. As night fell, Fernando Caligaris, , brought his mother, Dr. Maria Caligaris, who was visiting from São Paulo, Brazil, into the park to see the animals. When her son, who works nearby, told her about the little raccoon army near his office, she added a stop on her sightseeing itinerary. “The Metropolitan Museum, the Museum of Natural History, the Brooklyn Bridge,” Dr. Caligaris said. “And the raccoons. ” Emerging from the bushes, the raccoons often surprise the hordes of Pokémon Go players who have taken to strolling in Central Park at night, including Leonardo Altafini, , an actor who lives in Fort Greene, Brooklyn. He was wandering around with his friends, expecting that digital creatures, not actual ones, would pop up along the paths. “They’re like little Pokémon!” Mr. Altafini said, looking up from his screen to see a raccoon nearing his leg. He stopped to marvel at the balls of fur and striped tails at his feet  —   for a moment. “There’s a Squirtle down here!” a friend yelled, referring to one of the digital monsters. They headed off after the virtual creature, leaving behind the nearly   raccoons, each sniffing for more to eat.'"
            ],
            "application/vnd.google.colaboratory.intrinsic+json": {
              "type": "string"
            }
          },
          "metadata": {},
          "execution_count": 8
        }
      ]
    },
    {
      "cell_type": "markdown",
      "source": [
        "## Modelling Experiments\n",
        "\n",
        "Here's all the models, I'm going to create and run\n",
        "\n",
        "- Model 0 : a baseline naive bayes model\n",
        "- Model 1 : A Conv1D layer with a global maxpooling layer\n",
        "- Model 2 : A LSTM\n",
        "- Model 3 : A GRU\n",
        "- Model 4 : A Bidirectional RNN\n",
        "- Model 5 : Using a universal sentence encoder\n",
        "\n",
        "All the following models will be uploaded to tensorboard for futher evaluation"
      ],
      "metadata": {
        "id": "T6WdEp3iy7th"
      }
    },
    {
      "cell_type": "markdown",
      "source": [
        "### Model 0"
      ],
      "metadata": {
        "id": "CyvWT6fEy_I9"
      }
    },
    {
      "cell_type": "code",
      "source": [
        "from sklearn.naive_bayes import MultinomialNB\n",
        "from sklearn.pipeline import Pipeline\n",
        "from sklearn.feature_extraction.text import TfidfVectorizer\n",
        "\n",
        "#Preprocess\n",
        "train_sentences_pd = train_df['Text'].fillna('')\n",
        "test_sentences_pd = test_df['Text'].fillna('')"
      ],
      "metadata": {
        "id": "5OiNa4uNz1f6"
      },
      "execution_count": 9,
      "outputs": []
    },
    {
      "cell_type": "code",
      "source": [
        "#Create model0\n",
        "model0 = Pipeline([\n",
        "    (\"tfidf\", TfidfVectorizer()),\n",
        "    ('clf', MultinomialNB())\n",
        "])\n",
        "\n",
        "#Fit model0\n",
        "model0.fit(train_sentences_pd, train_labels)"
      ],
      "metadata": {
        "colab": {
          "base_uri": "https://localhost:8080/",
          "height": 127
        },
        "id": "iXBM_Bzf58_T",
        "outputId": "cb0ebb8f-72d7-4ee7-db9f-6a90b7f03d40"
      },
      "execution_count": 10,
      "outputs": [
        {
          "output_type": "execute_result",
          "data": {
            "text/plain": [
              "Pipeline(steps=[('tfidf', TfidfVectorizer()), ('clf', MultinomialNB())])"
            ],
            "text/html": [
              "<style>#sk-container-id-1 {color: black;background-color: white;}#sk-container-id-1 pre{padding: 0;}#sk-container-id-1 div.sk-toggleable {background-color: white;}#sk-container-id-1 label.sk-toggleable__label {cursor: pointer;display: block;width: 100%;margin-bottom: 0;padding: 0.3em;box-sizing: border-box;text-align: center;}#sk-container-id-1 label.sk-toggleable__label-arrow:before {content: \"▸\";float: left;margin-right: 0.25em;color: #696969;}#sk-container-id-1 label.sk-toggleable__label-arrow:hover:before {color: black;}#sk-container-id-1 div.sk-estimator:hover label.sk-toggleable__label-arrow:before {color: black;}#sk-container-id-1 div.sk-toggleable__content {max-height: 0;max-width: 0;overflow: hidden;text-align: left;background-color: #f0f8ff;}#sk-container-id-1 div.sk-toggleable__content pre {margin: 0.2em;color: black;border-radius: 0.25em;background-color: #f0f8ff;}#sk-container-id-1 input.sk-toggleable__control:checked~div.sk-toggleable__content {max-height: 200px;max-width: 100%;overflow: auto;}#sk-container-id-1 input.sk-toggleable__control:checked~label.sk-toggleable__label-arrow:before {content: \"▾\";}#sk-container-id-1 div.sk-estimator input.sk-toggleable__control:checked~label.sk-toggleable__label {background-color: #d4ebff;}#sk-container-id-1 div.sk-label input.sk-toggleable__control:checked~label.sk-toggleable__label {background-color: #d4ebff;}#sk-container-id-1 input.sk-hidden--visually {border: 0;clip: rect(1px 1px 1px 1px);clip: rect(1px, 1px, 1px, 1px);height: 1px;margin: -1px;overflow: hidden;padding: 0;position: absolute;width: 1px;}#sk-container-id-1 div.sk-estimator {font-family: monospace;background-color: #f0f8ff;border: 1px dotted black;border-radius: 0.25em;box-sizing: border-box;margin-bottom: 0.5em;}#sk-container-id-1 div.sk-estimator:hover {background-color: #d4ebff;}#sk-container-id-1 div.sk-parallel-item::after {content: \"\";width: 100%;border-bottom: 1px solid gray;flex-grow: 1;}#sk-container-id-1 div.sk-label:hover label.sk-toggleable__label {background-color: #d4ebff;}#sk-container-id-1 div.sk-serial::before {content: \"\";position: absolute;border-left: 1px solid gray;box-sizing: border-box;top: 0;bottom: 0;left: 50%;z-index: 0;}#sk-container-id-1 div.sk-serial {display: flex;flex-direction: column;align-items: center;background-color: white;padding-right: 0.2em;padding-left: 0.2em;position: relative;}#sk-container-id-1 div.sk-item {position: relative;z-index: 1;}#sk-container-id-1 div.sk-parallel {display: flex;align-items: stretch;justify-content: center;background-color: white;position: relative;}#sk-container-id-1 div.sk-item::before, #sk-container-id-1 div.sk-parallel-item::before {content: \"\";position: absolute;border-left: 1px solid gray;box-sizing: border-box;top: 0;bottom: 0;left: 50%;z-index: -1;}#sk-container-id-1 div.sk-parallel-item {display: flex;flex-direction: column;z-index: 1;position: relative;background-color: white;}#sk-container-id-1 div.sk-parallel-item:first-child::after {align-self: flex-end;width: 50%;}#sk-container-id-1 div.sk-parallel-item:last-child::after {align-self: flex-start;width: 50%;}#sk-container-id-1 div.sk-parallel-item:only-child::after {width: 0;}#sk-container-id-1 div.sk-dashed-wrapped {border: 1px dashed gray;margin: 0 0.4em 0.5em 0.4em;box-sizing: border-box;padding-bottom: 0.4em;background-color: white;}#sk-container-id-1 div.sk-label label {font-family: monospace;font-weight: bold;display: inline-block;line-height: 1.2em;}#sk-container-id-1 div.sk-label-container {text-align: center;}#sk-container-id-1 div.sk-container {/* jupyter's `normalize.less` sets `[hidden] { display: none; }` but bootstrap.min.css set `[hidden] { display: none !important; }` so we also need the `!important` here to be able to override the default hidden behavior on the sphinx rendered scikit-learn.org. See: https://github.com/scikit-learn/scikit-learn/issues/21755 */display: inline-block !important;position: relative;}#sk-container-id-1 div.sk-text-repr-fallback {display: none;}</style><div id=\"sk-container-id-1\" class=\"sk-top-container\"><div class=\"sk-text-repr-fallback\"><pre>Pipeline(steps=[(&#x27;tfidf&#x27;, TfidfVectorizer()), (&#x27;clf&#x27;, MultinomialNB())])</pre><b>In a Jupyter environment, please rerun this cell to show the HTML representation or trust the notebook. <br />On GitHub, the HTML representation is unable to render, please try loading this page with nbviewer.org.</b></div><div class=\"sk-container\" hidden><div class=\"sk-item sk-dashed-wrapped\"><div class=\"sk-label-container\"><div class=\"sk-label sk-toggleable\"><input class=\"sk-toggleable__control sk-hidden--visually\" id=\"sk-estimator-id-1\" type=\"checkbox\" ><label for=\"sk-estimator-id-1\" class=\"sk-toggleable__label sk-toggleable__label-arrow\">Pipeline</label><div class=\"sk-toggleable__content\"><pre>Pipeline(steps=[(&#x27;tfidf&#x27;, TfidfVectorizer()), (&#x27;clf&#x27;, MultinomialNB())])</pre></div></div></div><div class=\"sk-serial\"><div class=\"sk-item\"><div class=\"sk-estimator sk-toggleable\"><input class=\"sk-toggleable__control sk-hidden--visually\" id=\"sk-estimator-id-2\" type=\"checkbox\" ><label for=\"sk-estimator-id-2\" class=\"sk-toggleable__label sk-toggleable__label-arrow\">TfidfVectorizer</label><div class=\"sk-toggleable__content\"><pre>TfidfVectorizer()</pre></div></div></div><div class=\"sk-item\"><div class=\"sk-estimator sk-toggleable\"><input class=\"sk-toggleable__control sk-hidden--visually\" id=\"sk-estimator-id-3\" type=\"checkbox\" ><label for=\"sk-estimator-id-3\" class=\"sk-toggleable__label sk-toggleable__label-arrow\">MultinomialNB</label><div class=\"sk-toggleable__content\"><pre>MultinomialNB()</pre></div></div></div></div></div></div></div>"
            ]
          },
          "metadata": {},
          "execution_count": 10
        }
      ]
    },
    {
      "cell_type": "code",
      "source": [
        "results_model0 = model0.score(test_sentences_pd, test_labels)\n",
        "results_model0"
      ],
      "metadata": {
        "colab": {
          "base_uri": "https://localhost:8080/"
        },
        "id": "0omnP7Ra1QwF",
        "outputId": "9e2041e4-f5c6-40ce-8b8c-751d998dc0b8"
      },
      "execution_count": 11,
      "outputs": [
        {
          "output_type": "execute_result",
          "data": {
            "text/plain": [
              "0.8521634615384616"
            ]
          },
          "metadata": {},
          "execution_count": 11
        }
      ]
    },
    {
      "cell_type": "markdown",
      "source": [
        "### Model 1"
      ],
      "metadata": {
        "id": "nV5nKs0J11q6"
      }
    },
    {
      "cell_type": "code",
      "source": [
        "import tensorflow as tf\n",
        "\n",
        "#Create vectorization layer\n",
        "text_vectorizer = tf.keras.layers.TextVectorization(output_sequence_length=1000)\n",
        "text_vectorizer.adapt(train_sentences_pd)"
      ],
      "metadata": {
        "id": "ZOZjfbxk13Ul"
      },
      "execution_count": 12,
      "outputs": []
    },
    {
      "cell_type": "code",
      "source": [
        "#Get vocabulary\n",
        "vocabulary = text_vectorizer.get_vocabulary()\n",
        "\n",
        "#Setup embedding layer\n",
        "embedding = tf.keras.layers.Embedding(input_dim=len(vocabulary),\n",
        "                                      output_dim=128)"
      ],
      "metadata": {
        "id": "N7_tmZzW2ziL"
      },
      "execution_count": 13,
      "outputs": []
    },
    {
      "cell_type": "code",
      "source": [
        "vocabulary[:10]"
      ],
      "metadata": {
        "colab": {
          "base_uri": "https://localhost:8080/"
        },
        "id": "Y0kz3Vtj3WwZ",
        "outputId": "ec0893cb-9371-459f-b78d-2ad6abb7cc47"
      },
      "execution_count": 14,
      "outputs": [
        {
          "output_type": "execute_result",
          "data": {
            "text/plain": [
              "['', '[UNK]', 'the', 'to', 'of', 'and', 'a', 'in', 'that', 'is']"
            ]
          },
          "metadata": {},
          "execution_count": 14
        }
      ]
    },
    {
      "cell_type": "code",
      "source": [
        "text_vectorizer(train_sentences_numpy[0])"
      ],
      "metadata": {
        "colab": {
          "base_uri": "https://localhost:8080/"
        },
        "id": "3klRfnBt3r9v",
        "outputId": "f5cdb726-c7ea-4cc0-8c6a-58e3981dc5ed"
      },
      "execution_count": 15,
      "outputs": [
        {
          "output_type": "execute_result",
          "data": {
            "text/plain": [
              "<tf.Tensor: shape=(1000,), dtype=int64, numpy=\n",
              "array([    63,      6,    256,   3064,      4,  27588,      2,     94,\n",
              "          215,  42246,   2132,  17261,     58,      4,      2,  61958,\n",
              "           11,      6,    279,   1188,      7,    637,   1179,     38,\n",
              "        11761,   5818,   1429,  11908,     12,    294,   6368,      4,\n",
              "            6,   5355,   2480,  31530,    252,      4,      2,   2562,\n",
              "        34944,   1767,      2,  32964,    634,      2,   1497,  22367,\n",
              "           31,     46,   1247,     18,     47,  24477,     36,      5,\n",
              "          113,    149,     47,     53,    148,  24477,  18105,     11,\n",
              "            6,   1624,    581,      2,  10975,   2724,      4,      2,\n",
              "         1179,    107,     14,   6068,    447,    453,      7,   1811,\n",
              "           31,  20757,    177,    114,      6,  19570,      4,  16419,\n",
              "          720,      3,   4712,     10,  10388,     12,     76,     70,\n",
              "           51,   1583,      2,   2562,   4473,  45751,     25,      6,\n",
              "       170419,     18,    735,     15,      2,  24477,   1705,     11,\n",
              "           38,  43127,   4393,      3,  22307,  64750,     25,     38,\n",
              "       228690,  37842,   2685,     26,  25310,   8024, 179637,      6,\n",
              "        10203,     25,  24708,    676,    403,    269,     50,   2408,\n",
              "        74419,    912,     33,    500,      7,   1811,     15,     31,\n",
              "         1108,      2,  24477,     49,      4,      2,   2562,  24722,\n",
              "        73777,    634,      6,   1691,      7,      6,  25966,  27902,\n",
              "         1712,     99,     24,  25310,    121,    912,     17,   4406,\n",
              "           60,  12448,    255,     35,      7,    280,      2,  26842,\n",
              "            4,  24477,     20,      2,   2724,      4,      2,  14174,\n",
              "            7,    637,   1179,     28,    266,    236,      4,      6,\n",
              "         6328,   9116,     12,   9556,   3160,    562,    294,   1188,\n",
              "           12,     38,   2294,  13193,      5,    630,     53,     97,\n",
              "        45751,      7,  11995,     39,      7,   1685,      2,  42564,\n",
              "         2562, 202066,     11,      2,  12400,     15,    666,     15,\n",
              "           14,   1072,   1582,     31,    275,     10,     12,  12665,\n",
              "            2,   1404,      4,   6272,     76,    296,      9,  22046,\n",
              "          993,     18,     56,    183,   1916,   5678,    232,      5,\n",
              "         4234,    924,    114,     24,    619,    255,   6272,   4771,\n",
              "        19477,      5,   8438,      9,      7,     56,    183,     86,\n",
              "           14,      9,   6485,     10,     51,      5,   8278,   5652,\n",
              "        24477,     62,   1325,  39480,      5,   9526,  24477,      8,\n",
              "           79,     24,    933,      7,      2,  61958,     62,    112,\n",
              "          499,     75,   2157,   4266,     24,   3187,  24477,     39,\n",
              "          103,   4234,     34,    209,   4228,      7,  45927,   3873,\n",
              "       224538,    338,      4,    816,      5,   4234,     10,      2,\n",
              "         5678,    232,    284,      7,     29,    247,  60364,     19,\n",
              "          299,   3612,     25,      6,   3354,     36,     14,   3085,\n",
              "          178,     76,      5,     34,   1177,     35,      7,     61,\n",
              "           13,      6,    467,   8534,      4,  39480,    240,  24477,\n",
              "            7,    637,   1179,      5,     11,   8244,   1223,      7,\n",
              "          342,    594,     46,    281,    158,      3,      2,   1916,\n",
              "          227,    232,     26,    116,    200,  16393,  24477,     21,\n",
              "           45,    281,     36,     49,    294,      7,      2,   5505,\n",
              "         5025,      5,   8244,   1223,     36,      5,     28,    629,\n",
              "         7233,    154,     15,     88,      3,   2014,     76,     25,\n",
              "        24936,  24477,     19,     24,     78,   9766,    777,      7,\n",
              "         1811,  62109,      7,   2126,    117,     21,  11792,      6,\n",
              "          492,     18,   9113,     76,      7,  24936,      5,   4436,\n",
              "           76,      7,   5678,     10,   2562,     63,  24477,      5,\n",
              "           85,  18429,    617,      7,   2475,    866,      9,   1894,\n",
              "           30,   6272,     76,    139,     24,     22,    158,      3,\n",
              "            2,     86,    232,      4,   1585,   6342,     14,  13147,\n",
              "            6,  38254,    179, 124913,   4234,    483,     78,    138,\n",
              "        10404,     14,      9,     65,     24,   1309, 120921,     19,\n",
              "        13974,      5,     21,     29,  21234,   1105,      3,    314,\n",
              "          478,      7,      2,  34643,  68692, 211920,      6,    990,\n",
              "           10,      2,    232,     17,      7,     29,    247,    907,\n",
              "           19,    610, 101543,   2740,   2409,   2562,      5,  12425,\n",
              "           35,   4312,     11,      6,  11324,   1855,      2,  24477,\n",
              "            7,    637,   1179,   1797,    499,     12,    452,     21,\n",
              "           11,    735,     11,      6,    279,   1188,      2,   2562,\n",
              "        96921,     11,   3804,  19562,   4771,   9484,     20,     76,\n",
              "           18,      6,  12369,     25,     50,  25966,  10487,   8908,\n",
              "            5,      6,   1308,      4,      6,   2227,   2589,   4518,\n",
              "           31,    112,      6,  15070,      6,    395,   4495,   2645,\n",
              "          514,      3,  27242,  22971,  22803,      7,     38,   1866,\n",
              "           15,    348,   1589,  14215,  83487,    768,     23,    696,\n",
              "          365,   5374,  83487,     33,     13,   3160,     25,  15588,\n",
              "        14363,   2955,     75,      2,   1179,      3,    143,      2,\n",
              "         2562,     57,     50,    740,     33,    976,   1857,    148,\n",
              "           50,     41,      2,    256,  42246,    819,    581,     23,\n",
              "          231,     48,    274,      6,    475,     11,     50,  33179,\n",
              "        23872,    118,   4860,   2233,      2,   2233,      4,   1159,\n",
              "          316,      2,   2126,  32617,    365,  83487,     17,   1011,\n",
              "            2,  24477,     35,   3670,     25,      2,  12612,      2,\n",
              "        24477,    306,   1740,      2,  18709,      4,   9795,    175,\n",
              "         1144,     33,     21,    439,      3,  28954,      7,    637,\n",
              "         1179,     20,    348,    170,  12007, 116408,     29,   2646,\n",
              "           33,    500,      7,   3516,  10727,   2126,     16,     13,\n",
              "        11956,    177,     12,     23,    620,   5379,      8,   1953,\n",
              "         8278,     24,   1752,   1044,     44,   2966,     64,    392,\n",
              "            2,   7863,   4406,     63,    256, 172980,     27, 116408,\n",
              "           17,    608,     64,     25,     23,   2451,      3,    143,\n",
              "            6,  42246,  11532,     23,   4520,     16,   1435,      3,\n",
              "         8202,     20,      2,   6565,      4,  13193,      5,  25967,\n",
              "        27841,     20,     23,   1417,     36,     10,      6,    721,\n",
              "         2253,      6, 160204,    151,   3877,      6,    963,   7796,\n",
              "         1527,      3,     49,      4,      2,   1953,  14764,     31,\n",
              "         2735,    176,     66,      2,   5034,   8031,   1066,    437,\n",
              "            2,    456,  24477,    294,  27902,     10,     47,      3,\n",
              "         2025,      0,      0,      0,      0,      0,      0,      0,\n",
              "            0,      0,      0,      0,      0,      0,      0,      0,\n",
              "            0,      0,      0,      0,      0,      0,      0,      0,\n",
              "            0,      0,      0,      0,      0,      0,      0,      0,\n",
              "            0,      0,      0,      0,      0,      0,      0,      0,\n",
              "            0,      0,      0,      0,      0,      0,      0,      0,\n",
              "            0,      0,      0,      0,      0,      0,      0,      0,\n",
              "            0,      0,      0,      0,      0,      0,      0,      0,\n",
              "            0,      0,      0,      0,      0,      0,      0,      0,\n",
              "            0,      0,      0,      0,      0,      0,      0,      0,\n",
              "            0,      0,      0,      0,      0,      0,      0,      0,\n",
              "            0,      0,      0,      0,      0,      0,      0,      0,\n",
              "            0,      0,      0,      0,      0,      0,      0,      0,\n",
              "            0,      0,      0,      0,      0,      0,      0,      0,\n",
              "            0,      0,      0,      0,      0,      0,      0,      0,\n",
              "            0,      0,      0,      0,      0,      0,      0,      0,\n",
              "            0,      0,      0,      0,      0,      0,      0,      0,\n",
              "            0,      0,      0,      0,      0,      0,      0,      0,\n",
              "            0,      0,      0,      0,      0,      0,      0,      0,\n",
              "            0,      0,      0,      0,      0,      0,      0,      0,\n",
              "            0,      0,      0,      0,      0,      0,      0,      0,\n",
              "            0,      0,      0,      0,      0,      0,      0,      0,\n",
              "            0,      0,      0,      0,      0,      0,      0,      0,\n",
              "            0,      0,      0,      0,      0,      0,      0,      0,\n",
              "            0,      0,      0,      0,      0,      0,      0,      0,\n",
              "            0,      0,      0,      0,      0,      0,      0,      0,\n",
              "            0,      0,      0,      0,      0,      0,      0,      0,\n",
              "            0,      0,      0,      0,      0,      0,      0,      0,\n",
              "            0,      0,      0,      0,      0,      0,      0,      0,\n",
              "            0,      0,      0,      0,      0,      0,      0,      0,\n",
              "            0,      0,      0,      0,      0,      0,      0,      0])>"
            ]
          },
          "metadata": {},
          "execution_count": 15
        }
      ]
    },
    {
      "cell_type": "code",
      "source": [
        "#Import dependencies\n",
        "import tensorflow as tf\n",
        "from tensorflow.keras.layers import Dense, Input, Conv1D, GlobalMaxPool1D\n",
        "\n",
        "#Create inputs and outputs\n",
        "inputs = Input(shape=(1,), dtype=tf.string)\n",
        "x = text_vectorizer(inputs)\n",
        "x = embedding(x)\n",
        "x = Conv1D(64, 3)(x)\n",
        "x = GlobalMaxPool1D()(x)\n",
        "outputs = Dense(1, activation='sigmoid')(x)\n",
        "\n",
        "#Create the model\n",
        "model1 = tf.keras.Model(inputs, outputs)"
      ],
      "metadata": {
        "id": "X7NxIYd930Xl"
      },
      "execution_count": 16,
      "outputs": []
    },
    {
      "cell_type": "code",
      "source": [
        "#Compile the model\n",
        "model1.compile(loss=tf.keras.losses.BinaryCrossentropy(),\n",
        "                optimizer=tf.keras.optimizers.Adam(),\n",
        "                metrics=['accuracy'])\n",
        "\n",
        "#Create tensorboard callback\n",
        "model1_tensorboard = tf.keras.callbacks.TensorBoard(log_dir='/content/Models/Model1')"
      ],
      "metadata": {
        "id": "QcKXZqYe4faW"
      },
      "execution_count": 17,
      "outputs": []
    },
    {
      "cell_type": "code",
      "source": [
        "history_model1 = model1.fit(train_sentences_pd,\n",
        "                            train_labels,\n",
        "                            epochs=2,\n",
        "                            validation_data=(test_sentences_pd, test_labels),\n",
        "                            callbacks=[model1_tensorboard])"
      ],
      "metadata": {
        "colab": {
          "base_uri": "https://localhost:8080/"
        },
        "id": "56F9P-Bu4u2b",
        "outputId": "fa2ca82c-f592-437b-b818-ebffc5f861ac"
      },
      "execution_count": 18,
      "outputs": [
        {
          "output_type": "stream",
          "name": "stdout",
          "text": [
            "Epoch 1/2\n",
            "520/520 [==============================] - 97s 169ms/step - loss: 0.1797 - accuracy: 0.9314 - val_loss: 0.0591 - val_accuracy: 0.9781\n",
            "Epoch 2/2\n",
            "520/520 [==============================] - 67s 130ms/step - loss: 0.0289 - accuracy: 0.9908 - val_loss: 0.0360 - val_accuracy: 0.9856\n"
          ]
        }
      ]
    },
    {
      "cell_type": "code",
      "source": [
        "results_model1 = model1.evaluate(test_sentences_pd, test_labels)\n",
        "results_model1"
      ],
      "metadata": {
        "colab": {
          "base_uri": "https://localhost:8080/"
        },
        "id": "-Pr-Af9GAXBb",
        "outputId": "b0c29003-0a58-4757-84e8-a15fabd67b22"
      },
      "execution_count": 19,
      "outputs": [
        {
          "output_type": "stream",
          "name": "stdout",
          "text": [
            "130/130 [==============================] - 1s 9ms/step - loss: 0.0360 - accuracy: 0.9856\n"
          ]
        },
        {
          "output_type": "execute_result",
          "data": {
            "text/plain": [
              "[0.036042891442775726, 0.9855769276618958]"
            ]
          },
          "metadata": {},
          "execution_count": 19
        }
      ]
    },
    {
      "cell_type": "code",
      "source": [
        "#Create a function to make custom predictions\n",
        "def predict_with_model(model):\n",
        "  text = input('Enter the news here: ')\n",
        "  results = model.predict([text])\n",
        "  if results < 0.5:\n",
        "    print('This news is reliable')\n",
        "  else:\n",
        "    print('This news is unreliable')\n"
      ],
      "metadata": {
        "id": "OieJaIKdAhhy"
      },
      "execution_count": 20,
      "outputs": []
    },
    {
      "cell_type": "markdown",
      "source": [
        "```\n",
        "1: unreliable\n",
        "0: reliable\n",
        "```"
      ],
      "metadata": {
        "id": "gPg2rRHNBFyt"
      }
    },
    {
      "cell_type": "markdown",
      "source": [
        "### Model 2"
      ],
      "metadata": {
        "id": "f58CiksRBjpL"
      }
    },
    {
      "cell_type": "code",
      "source": [
        "#Import dependencies\n",
        "from tensorflow.keras.layers import LSTM, GRU, Bidirectional\n",
        "\n",
        "#Create inputs and outputs\n",
        "inputs = Input(shape=(1,), dtype=tf.string)\n",
        "x = text_vectorizer(inputs)\n",
        "x = embedding(x)\n",
        "x = tf.keras.layers.LSTM(40)(x)\n",
        "outputs = Dense(1, activation='sigmoid')(x)\n",
        "\n",
        "#Create the model and compile\n",
        "model2 = tf.keras.Model(inputs, outputs)\n",
        "model2.compile(loss=tf.keras.losses.BinaryCrossentropy(),\n",
        "               optimizer=tf.keras.optimizers.Adam(),\n",
        "               metrics=['accuracy'])\n",
        "\n",
        "#Create tensorboard callback and fit model\n",
        "model2_tensorboard = tf.keras.callbacks.TensorBoard(log_dir='/content/Models/Model2')\n",
        "history_model2 = model2.fit(train_sentences_pd,\n",
        "                            train_labels,\n",
        "                            epochs=2,\n",
        "                            validation_data=(test_sentences_pd, test_labels),\n",
        "                            callbacks=[model2_tensorboard])"
      ],
      "metadata": {
        "colab": {
          "base_uri": "https://localhost:8080/"
        },
        "id": "bTnUT8PPCEiS",
        "outputId": "06902392-ff80-4a10-e4f1-47da0c59e3b2"
      },
      "execution_count": 21,
      "outputs": [
        {
          "output_type": "stream",
          "name": "stdout",
          "text": [
            "Epoch 1/2\n",
            "520/520 [==============================] - 90s 166ms/step - loss: 0.6588 - accuracy: 0.6043 - val_loss: 0.6127 - val_accuracy: 0.6243\n",
            "Epoch 2/2\n",
            "520/520 [==============================] - 69s 132ms/step - loss: 0.5154 - accuracy: 0.7496 - val_loss: 0.3489 - val_accuracy: 0.8805\n"
          ]
        }
      ]
    },
    {
      "cell_type": "code",
      "source": [
        "resuts_model2 = model2.evaluate(test_sentences_pd, test_labels)"
      ],
      "metadata": {
        "colab": {
          "base_uri": "https://localhost:8080/"
        },
        "id": "RhzpkM6iGl1q",
        "outputId": "00c5687a-77d2-4f80-eda5-370309629f2b"
      },
      "execution_count": 22,
      "outputs": [
        {
          "output_type": "stream",
          "name": "stdout",
          "text": [
            "130/130 [==============================] - 2s 19ms/step - loss: 0.3489 - accuracy: 0.8805\n"
          ]
        }
      ]
    },
    {
      "cell_type": "markdown",
      "source": [
        "### Model 3 "
      ],
      "metadata": {
        "id": "fJBUHTqOKGOG"
      }
    },
    {
      "cell_type": "code",
      "source": [
        "#Import dependencies\n",
        "from tensorflow.keras.layers import LSTM, GRU, Bidirectional\n",
        "\n",
        "#Create inputs and outputs\n",
        "inputs = Input(shape=(1,), dtype=tf.string)\n",
        "x = text_vectorizer(inputs)\n",
        "x = embedding(x)\n",
        "x = tf.keras.layers.GRU(40)(x)\n",
        "outputs = Dense(1, activation='sigmoid')(x)\n",
        "\n",
        "#Create the model and compile\n",
        "model3 = tf.keras.Model(inputs, outputs)\n",
        "model3.compile(loss=tf.keras.losses.BinaryCrossentropy(),\n",
        "               optimizer=tf.keras.optimizers.Adam(),\n",
        "               metrics=['accuracy'])\n",
        "\n",
        "#Create tensorboard callback and fit model\n",
        "model3_tensorboard = tf.keras.callbacks.TensorBoard(log_dir='/content/Models/Model3')\n",
        "history_model3 = model3.fit(train_sentences_pd,\n",
        "                            train_labels,\n",
        "                            epochs=2,\n",
        "                            validation_data=(test_sentences_pd, test_labels),\n",
        "                            callbacks=[model3_tensorboard])"
      ],
      "metadata": {
        "id": "t1yXjiE6KHhZ",
        "colab": {
          "base_uri": "https://localhost:8080/"
        },
        "outputId": "2da287d0-40d9-4b81-b600-9f7355d7c2dc"
      },
      "execution_count": 23,
      "outputs": [
        {
          "output_type": "stream",
          "name": "stdout",
          "text": [
            "Epoch 1/2\n",
            "520/520 [==============================] - 94s 176ms/step - loss: 0.6382 - accuracy: 0.6603 - val_loss: 0.5489 - val_accuracy: 0.6971\n",
            "Epoch 2/2\n",
            "520/520 [==============================] - 68s 132ms/step - loss: 0.3024 - accuracy: 0.8951 - val_loss: 0.2436 - val_accuracy: 0.9202\n"
          ]
        }
      ]
    },
    {
      "cell_type": "code",
      "source": [
        "results_model3 = model3.evaluate(test_sentences_pd, test_labels)"
      ],
      "metadata": {
        "id": "uQhLYplbOu4B",
        "colab": {
          "base_uri": "https://localhost:8080/"
        },
        "outputId": "3af3c41d-55ef-4bf2-96fd-5f772f7e0cad"
      },
      "execution_count": 24,
      "outputs": [
        {
          "output_type": "stream",
          "name": "stdout",
          "text": [
            "130/130 [==============================] - 2s 17ms/step - loss: 0.2436 - accuracy: 0.9202\n"
          ]
        }
      ]
    },
    {
      "cell_type": "markdown",
      "source": [
        "### Model 4"
      ],
      "metadata": {
        "id": "ZTrla_B_PQCk"
      }
    },
    {
      "cell_type": "code",
      "source": [
        "#Import dependencies\n",
        "from tensorflow.keras.layers import LSTM, GRU, Bidirectional\n",
        "\n",
        "#Create inputs and outputs\n",
        "inputs = Input(shape=(1,), dtype=tf.string)\n",
        "x = text_vectorizer(inputs)\n",
        "x = embedding(x)\n",
        "x = tf.keras.layers.Bidirectional(LSTM(40))(x)\n",
        "outputs = Dense(1, activation='sigmoid')(x)\n",
        "\n",
        "#Create the model and compile\n",
        "model4 = tf.keras.Model(inputs, outputs)\n",
        "model4.compile(loss=tf.keras.losses.BinaryCrossentropy(),\n",
        "               optimizer=tf.keras.optimizers.Adam(),\n",
        "               metrics=['accuracy'])\n",
        "\n",
        "#Create tensorboard callback and fit model\n",
        "model4_tensorboard = tf.keras.callbacks.TensorBoard(log_dir='/content/Models/Model4')\n",
        "history_model4 = model4.fit(train_sentences_pd,\n",
        "                            train_labels,\n",
        "                            epochs=2,\n",
        "                            validation_data=(test_sentences_pd, test_labels),\n",
        "                            callbacks=[model4_tensorboard])"
      ],
      "metadata": {
        "id": "i8Ify7WRctZo",
        "colab": {
          "base_uri": "https://localhost:8080/"
        },
        "outputId": "2bc638e3-3822-495e-df69-fa52cdc5ec07"
      },
      "execution_count": 25,
      "outputs": [
        {
          "output_type": "stream",
          "name": "stdout",
          "text": [
            "Epoch 1/2\n",
            "520/520 [==============================] - 97s 179ms/step - loss: 0.2700 - accuracy: 0.8954 - val_loss: 0.1829 - val_accuracy: 0.9349\n",
            "Epoch 2/2\n",
            "520/520 [==============================] - 78s 151ms/step - loss: 0.0947 - accuracy: 0.9683 - val_loss: 0.1288 - val_accuracy: 0.9519\n"
          ]
        }
      ]
    },
    {
      "cell_type": "code",
      "source": [
        "results_model4 = model4.evaluate(test_sentences_pd, test_labels)"
      ],
      "metadata": {
        "id": "RIbVCt52fmkY",
        "colab": {
          "base_uri": "https://localhost:8080/"
        },
        "outputId": "b222a3dd-1bd2-4739-a579-31adfd4f4152"
      },
      "execution_count": 26,
      "outputs": [
        {
          "output_type": "stream",
          "name": "stdout",
          "text": [
            "130/130 [==============================] - 5s 35ms/step - loss: 0.1288 - accuracy: 0.9519\n"
          ]
        }
      ]
    },
    {
      "cell_type": "markdown",
      "source": [
        "### Model 5"
      ],
      "metadata": {
        "id": "Ctm5PbZQIwJY"
      }
    },
    {
      "cell_type": "code",
      "source": [
        "#Import dependencies\n",
        "import tensorflow_hub as hub"
      ],
      "metadata": {
        "id": "IB81NrVzIxoS"
      },
      "execution_count": 31,
      "outputs": []
    },
    {
      "cell_type": "code",
      "source": [
        "sentence_encoder = hub.KerasLayer('https://tfhub.dev/google/universal-sentence-encoder/4', trainable=False, input_shape=[], dtype=tf.string)"
      ],
      "metadata": {
        "id": "c5VzXH0NY_TR"
      },
      "execution_count": 34,
      "outputs": []
    },
    {
      "cell_type": "code",
      "source": [
        "#Create our model\n",
        "model5 = tf.keras.Sequential([\n",
        "    sentence_encoder,\n",
        "    Dense(64, activation='relu'),\n",
        "    Dense(1, activation='sigmoid')\n",
        "])\n",
        "\n",
        "#Compile model\n",
        "model5.compile(loss=tf.keras.losses.BinaryCrossentropy(),\n",
        "               optimizer=tf.keras.optimizers.Adam(),\n",
        "               metrics=['accuracy'])"
      ],
      "metadata": {
        "id": "0LCaPJK57t4X"
      },
      "execution_count": 43,
      "outputs": []
    },
    {
      "cell_type": "code",
      "source": [
        "#create callback\n",
        "model5_tensorboard = tf.keras.callbacks.TensorBoard(log_dir='/content/Models/Model5')\n",
        "\n",
        "#Fit model\n",
        "history_model5 = model5.fit(train_sentences_pd,\n",
        "                            train_labels,\n",
        "                            epochs=2,\n",
        "                            validation_data=(test_sentences_pd, test_labels),\n",
        "                            callbacks=[model5_tensorboard])"
      ],
      "metadata": {
        "colab": {
          "base_uri": "https://localhost:8080/"
        },
        "id": "G4bzWJCMEHwM",
        "outputId": "1d081eb5-d29b-41c6-cf28-419d1c5c1e94"
      },
      "execution_count": 44,
      "outputs": [
        {
          "output_type": "stream",
          "name": "stdout",
          "text": [
            "Epoch 1/2\n",
            "520/520 [==============================] - 90s 163ms/step - loss: 0.3810 - accuracy: 0.8392 - val_loss: 0.3099 - val_accuracy: 0.8675\n",
            "Epoch 2/2\n",
            "520/520 [==============================] - 87s 167ms/step - loss: 0.2813 - accuracy: 0.8822 - val_loss: 0.2793 - val_accuracy: 0.8813\n"
          ]
        }
      ]
    },
    {
      "cell_type": "code",
      "source": [
        "results_model5 = model5.evaluate(test_sentences_pd, test_labels)"
      ],
      "metadata": {
        "colab": {
          "base_uri": "https://localhost:8080/"
        },
        "id": "T0nMmAo8FZmk",
        "outputId": "b44cfb6f-bdbf-43b4-ca65-17eaa9b30fd1"
      },
      "execution_count": 45,
      "outputs": [
        {
          "output_type": "stream",
          "name": "stdout",
          "text": [
            "130/130 [==============================] - 18s 137ms/step - loss: 0.2793 - accuracy: 0.8813\n"
          ]
        }
      ]
    },
    {
      "cell_type": "markdown",
      "source": [
        "## Evaluating models"
      ],
      "metadata": {
        "id": "vHF5emAaFjv4"
      }
    },
    {
      "cell_type": "code",
      "source": [
        "#Let's just do a quick check of each model's results\n",
        "print(f'Model 0: {results_model0}')\n",
        "print(f'Model 1: {results_model1[1]}')\n",
        "print(f'Model 2: {resuts_model2[1]}')\n",
        "print(f'Model 3: {results_model3[1]}')\n",
        "print(f'Model 4: {results_model4[1]}')\n",
        "print(f'Model 5: {results_model5[1]}')"
      ],
      "metadata": {
        "id": "QGmdXgUsgf7K",
        "colab": {
          "base_uri": "https://localhost:8080/"
        },
        "outputId": "27669347-bed1-4244-e33a-b741449477aa"
      },
      "execution_count": 47,
      "outputs": [
        {
          "output_type": "stream",
          "name": "stdout",
          "text": [
            "Model 0: 0.8521634615384616\n",
            "Model 1: 0.9855769276618958\n",
            "Model 2: 0.8805288672447205\n",
            "Model 3: 0.920192301273346\n",
            "Model 4: 0.9519230723381042\n",
            "Model 5: 0.8812500238418579\n"
          ]
        }
      ]
    },
    {
      "cell_type": "code",
      "source": [
        "#Lets upload to tensorboard\n",
        "!tensorboard dev upload --logdir '/content/Models' --one_shot"
      ],
      "metadata": {
        "colab": {
          "base_uri": "https://localhost:8080/"
        },
        "id": "5rhw_JpoGJrk",
        "outputId": "4865fb8e-dadc-4f95-a06f-d080d39c3246"
      },
      "execution_count": 49,
      "outputs": [
        {
          "output_type": "stream",
          "name": "stdout",
          "text": [
            "2023-03-26 04:08:01.035138: W tensorflow/compiler/xla/stream_executor/platform/default/dso_loader.cc:64] Could not load dynamic library 'libnvinfer.so.7'; dlerror: libnvinfer.so.7: cannot open shared object file: No such file or directory; LD_LIBRARY_PATH: /usr/lib64-nvidia\n",
            "2023-03-26 04:08:01.035239: W tensorflow/compiler/xla/stream_executor/platform/default/dso_loader.cc:64] Could not load dynamic library 'libnvinfer_plugin.so.7'; dlerror: libnvinfer_plugin.so.7: cannot open shared object file: No such file or directory; LD_LIBRARY_PATH: /usr/lib64-nvidia\n",
            "2023-03-26 04:08:01.035259: W tensorflow/compiler/tf2tensorrt/utils/py_utils.cc:38] TF-TRT Warning: Cannot dlopen some TensorRT libraries. If you would like to use Nvidia GPU with TensorRT, please make sure the missing libraries mentioned above are installed properly.\n",
            "\n",
            "***** TensorBoard Uploader *****\n",
            "\n",
            "This will upload your TensorBoard logs to https://tensorboard.dev/ from\n",
            "the following directory:\n",
            "\n",
            "/content/Models\n",
            "\n",
            "This TensorBoard will be visible to everyone. Do not upload sensitive\n",
            "data.\n",
            "\n",
            "Your use of this service is subject to Google's Terms of Service\n",
            "<https://policies.google.com/terms> and Privacy Policy\n",
            "<https://policies.google.com/privacy>, and TensorBoard.dev's Terms of Service\n",
            "<https://tensorboard.dev/policy/terms/>.\n",
            "\n",
            "This notice will not be shown again while you are logged into the uploader.\n",
            "To log out, run `tensorboard dev auth revoke`.\n",
            "\n",
            "Continue? (yes/NO) yes\n",
            "\n",
            "To sign in with the TensorBoard uploader:\n",
            "\n",
            "1. On your computer or phone, visit:\n",
            "\n",
            "   https://www.google.com/device\n",
            "\n",
            "2. Sign in with your Google account, then enter:\n",
            "\n",
            "   CWG-QKQ-TRR\n",
            "\n",
            "\n",
            "\n",
            "New experiment created. View your TensorBoard at: https://tensorboard.dev/experiment/2njxAFxaRRCYe8D9qj2H2A/\n",
            "\n",
            "\u001b[1m[2023-03-26T04:08:30]\u001b[0m Started scanning logdir.\n",
            "\u001b[1m[2023-03-26T04:08:36]\u001b[0m Total uploaded: 60 scalars, 0 tensors, 5 binary objects (1.9 MB)\n",
            "\u001b[1m[2023-03-26T04:08:36]\u001b[0m Done scanning logdir.\n",
            "\n",
            "\n",
            "Done. View your TensorBoard at https://tensorboard.dev/experiment/2njxAFxaRRCYe8D9qj2H2A/\n"
          ]
        }
      ]
    }
  ]
}